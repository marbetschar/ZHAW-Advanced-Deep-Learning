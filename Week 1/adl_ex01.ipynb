{
 "cells": [
  {
   "attachments": {},
   "cell_type": "markdown",
   "id": "189cc004-14b3-4258-b78b-303f409da889",
   "metadata": {},
   "source": [
    "# Recap Neural Networks in pytorch\n",
    "\n",
    "## Tutorial and home work 1: Classification and encoder for MNIST\n",
    "\n",
    "### Installation\n",
    "\n",
    "We will be using torch for the exercises. It is recommended to install a seperate conda environment for the course and install torch, torchvision, python 3.12 and matplotlib there. Check the online manuals for the installation on your computer.\n",
    "\n",
    "We also use two other packages, torchinfo and torcheval that can be installed using pip.\n",
    "\n",
    "The following imports all the packages used, if there are any error messages, check your installation.\n",
    "\n",
    "### Tutorial outline \n",
    "\n",
    "The tutorial recaps how to do design and train a neural network using pytorch. As an exercise, the tutorial should be augmented by designing and training a different network that encodes and decodes the input image and does the classification."
   ]
  },
  {
   "cell_type": "code",
   "id": "6631cd0d-7fd6-4ba9-88b0-9468fa8a91b1",
   "metadata": {
    "ExecuteTime": {
     "end_time": "2025-09-18T13:02:24.167539Z",
     "start_time": "2025-09-18T13:02:24.165410Z"
    }
   },
   "source": [
    "import torch\n",
    "import torch.nn as nn\n",
    "import torch.optim as optim\n",
    "import torchvision\n",
    "from torchinfo import summary\n",
    "from torcheval.metrics import MulticlassAccuracy\n",
    "\n",
    "import numpy as np\n",
    "import matplotlib.pyplot as plt\n",
    "\n",
    "import wandb"
   ],
   "outputs": [],
   "execution_count": 6
  },
  {
   "cell_type": "markdown",
   "id": "8f7fcce1-f6cb-4d8e-a37c-4c5c87632022",
   "metadata": {},
   "source": [
    "### Data preparation\n",
    "We will use data sets from torchvision. These data sets have to be transformed into a tensor for torch and also must be normalized if they are not already. We will use 1-channel (intensity) images from the (probably too well known :-) ) MNIST data set for this tutorial."
   ]
  },
  {
   "cell_type": "code",
   "id": "b37ac2b4-dc0f-47db-a3c6-c0f46f9bd6c0",
   "metadata": {
    "ExecuteTime": {
     "end_time": "2025-09-18T13:02:25.613280Z",
     "start_time": "2025-09-18T13:02:25.611756Z"
    }
   },
   "source": [
    "transform = torchvision.transforms.Compose(\n",
    "    [torchvision.transforms.ToTensor()])"
   ],
   "outputs": [],
   "execution_count": 7
  },
  {
   "cell_type": "markdown",
   "id": "254eff06-4ee6-48d7-98a7-9ec59321c256",
   "metadata": {},
   "source": [
    "Generate the train and test data sets. Download the data if necessary."
   ]
  },
  {
   "cell_type": "code",
   "id": "d8bd52d1-38bd-40f1-8536-1e26e81a4a75",
   "metadata": {
    "ExecuteTime": {
     "end_time": "2025-09-18T13:02:32.761363Z",
     "start_time": "2025-09-18T13:02:27.785708Z"
    }
   },
   "source": [
    "data_train = torchvision.datasets.MNIST(root='data/mnist', download=True, transform=transform)"
   ],
   "outputs": [
    {
     "name": "stderr",
     "output_type": "stream",
     "text": [
      "100.0%\n",
      "100.0%\n",
      "100.0%\n",
      "100.0%\n"
     ]
    }
   ],
   "execution_count": 8
  },
  {
   "cell_type": "code",
   "id": "1a8e4c9f-7560-441d-8dd4-80d7e2374e2b",
   "metadata": {
    "ExecuteTime": {
     "end_time": "2025-09-18T13:02:34.711335Z",
     "start_time": "2025-09-18T13:02:34.705229Z"
    }
   },
   "source": [
    "data_test = torchvision.datasets.MNIST(root='data/mnist', train=False, download=True, transform=transform)"
   ],
   "outputs": [],
   "execution_count": 9
  },
  {
   "cell_type": "code",
   "id": "4a4099d9-92bc-4763-9aab-cc146d967b65",
   "metadata": {
    "ExecuteTime": {
     "end_time": "2025-09-18T13:02:36.572454Z",
     "start_time": "2025-09-18T13:02:36.569884Z"
    }
   },
   "source": [
    "print (f'train: {len(data_train)}')"
   ],
   "outputs": [
    {
     "name": "stdout",
     "output_type": "stream",
     "text": [
      "train: 60000\n"
     ]
    }
   ],
   "execution_count": 10
  },
  {
   "cell_type": "markdown",
   "id": "51876199-3114-4662-836c-06bc514bc3e9",
   "metadata": {},
   "source": [
    "### Train and validation data sets\n",
    "\n",
    "The train data set should be further split into train and validation. We can use random split here as the data set is balanced."
   ]
  },
  {
   "cell_type": "code",
   "id": "71cf868e-72ad-485d-a2ef-373c7f399769",
   "metadata": {
    "ExecuteTime": {
     "end_time": "2025-09-18T13:02:39.340579Z",
     "start_time": "2025-09-18T13:02:39.337614Z"
    }
   },
   "source": [
    "len_train = (int)(0.8 * len(data_train))\n",
    "len_val = len(data_train) - len_train\n",
    "\n",
    "print(len_train, len_val, len(data_train))\n",
    "\n",
    "data_train_subset, data_val_subset = torch.utils.data.random_split(\n",
    "        data_train, [len_train, len_val])"
   ],
   "outputs": [
    {
     "name": "stdout",
     "output_type": "stream",
     "text": [
      "48000 12000 60000\n"
     ]
    }
   ],
   "execution_count": 11
  },
  {
   "cell_type": "markdown",
   "id": "89e3887e-7a21-4afc-bf93-709be638385f",
   "metadata": {},
   "source": [
    "Construct data loaders for the 3 data sets.\n",
    "                  "
   ]
  },
  {
   "cell_type": "code",
   "id": "6f62dda5-0b1e-49b8-9725-585c81d08a9c",
   "metadata": {
    "ExecuteTime": {
     "end_time": "2025-09-18T13:02:41.608404Z",
     "start_time": "2025-09-18T13:02:41.606502Z"
    }
   },
   "source": [
    "BATCH_SIZE = 64\n",
    "\n",
    "data_train_loader = torch.utils.data.DataLoader(dataset=data_train_subset, shuffle=True, batch_size=BATCH_SIZE)\n",
    "data_val_loader = torch.utils.data.DataLoader(dataset=data_val_subset, shuffle=False, batch_size=BATCH_SIZE)\n",
    "data_test_loader = torch.utils.data.DataLoader(data_test, batch_size=64)"
   ],
   "outputs": [],
   "execution_count": 12
  },
  {
   "cell_type": "markdown",
   "id": "a54bcc7d-2e93-4b13-a1b5-e555d302c9a4",
   "metadata": {},
   "source": [
    "### Verify the images in the data set\n",
    "Verify the images and also check that the range is correct"
   ]
  },
  {
   "cell_type": "code",
   "id": "3bfce049-d7da-4829-b4f9-3187929fbb7b",
   "metadata": {
    "ExecuteTime": {
     "end_time": "2025-09-18T13:02:43.028542Z",
     "start_time": "2025-09-18T13:02:42.979842Z"
    }
   },
   "source": [
    "train_iter = iter(data_train_loader)\n",
    "images, labels = next(train_iter)\n",
    "\n",
    "image = images[0].numpy().squeeze()\n",
    "print(f'max: {np.max(image)}, min: {np.min(image)}')\n",
    "plt.imshow(image, cmap='gray')\n",
    "plt.show()"
   ],
   "outputs": [
    {
     "name": "stdout",
     "output_type": "stream",
     "text": [
      "max: 1.0, min: 0.0\n"
     ]
    },
    {
     "data": {
      "text/plain": [
       "<Figure size 640x480 with 1 Axes>"
      ],
      "image/png": "[encoded data removed]"
     },
     "metadata": {},
     "output_type": "display_data",
     "jetTransient": {
      "display_id": null
     }
    }
   ],
   "execution_count": 13
  },
  {
   "cell_type": "code",
   "id": "4a55829d-af2c-4cc8-8c0c-1f591178b261",
   "metadata": {
    "ExecuteTime": {
     "end_time": "2025-09-18T13:02:45.431267Z",
     "start_time": "2025-09-18T13:02:45.379222Z"
    }
   },
   "source": [
    "plt.imshow(np.transpose(torchvision.utils.make_grid(images), (1, 2, 0)))"
   ],
   "outputs": [
    {
     "data": {
      "text/plain": [
       "<matplotlib.image.AxesImage at 0x13741dbd0>"
      ]
     },
     "execution_count": 14,
     "metadata": {},
     "output_type": "execute_result"
    },
    {
     "data": {
      "text/plain": [
       "<Figure size 640x480 with 1 Axes>"
      ],
      "image/png": "[encoded data removed]"
     },
     "metadata": {},
     "output_type": "display_data",
     "jetTransient": {
      "display_id": null
     }
    }
   ],
   "execution_count": 14
  },
  {
   "cell_type": "markdown",
   "id": "e5fc6a8e-b0c0-4e2c-8c3f-d5312bdd98c0",
   "metadata": {},
   "source": [
    "## Define a CNN for classification\n",
    "Define a convolutional neural network for classification. \n",
    "\n",
    "We will use a simple network for this example. This should be refined in the exercise.\n"
   ]
  },
  {
   "cell_type": "code",
   "id": "120ba401-f209-4702-b813-30b2801752ca",
   "metadata": {
    "ExecuteTime": {
     "end_time": "2025-09-18T13:02:49.648666Z",
     "start_time": "2025-09-18T13:02:49.645371Z"
    }
   },
   "source": [
    "class MyCNN(nn.Module):\n",
    "    def __init__(self):\n",
    "        super().__init__()\n",
    "        self.layers = nn.Sequential(\n",
    "            nn.Conv2d(1, out_channels=4, kernel_size=3),\n",
    "            nn.ReLU(),\n",
    "            nn.MaxPool2d(2, 2),\n",
    "            nn.Conv2d(4, 8, 3),\n",
    "            nn.ReLU(),\n",
    "            nn.MaxPool2d(2, 2),\n",
    "            nn.Conv2d(8, 8, 3),\n",
    "            nn.ReLU(),\n",
    "            nn.Flatten(),\n",
    "            nn.Linear(72, 120),\n",
    "            nn.ReLU(),\n",
    "            nn.Linear(120, 10)\n",
    "        )\n",
    "        \n",
    "\n",
    "    def forward(self, x):\n",
    "        return self.layers.forward(x)\n",
    "\n",
    "\n",
    "my_cnn = MyCNN()\n",
    "print(my_cnn)"
   ],
   "outputs": [
    {
     "name": "stdout",
     "output_type": "stream",
     "text": [
      "MyCNN(\n",
      "  (layers): Sequential(\n",
      "    (0): Conv2d(1, 4, kernel_size=(3, 3), stride=(1, 1))\n",
      "    (1): ReLU()\n",
      "    (2): MaxPool2d(kernel_size=2, stride=2, padding=0, dilation=1, ceil_mode=False)\n",
      "    (3): Conv2d(4, 8, kernel_size=(3, 3), stride=(1, 1))\n",
      "    (4): ReLU()\n",
      "    (5): MaxPool2d(kernel_size=2, stride=2, padding=0, dilation=1, ceil_mode=False)\n",
      "    (6): Conv2d(8, 8, kernel_size=(3, 3), stride=(1, 1))\n",
      "    (7): ReLU()\n",
      "    (8): Flatten(start_dim=1, end_dim=-1)\n",
      "    (9): Linear(in_features=72, out_features=120, bias=True)\n",
      "    (10): ReLU()\n",
      "    (11): Linear(in_features=120, out_features=10, bias=True)\n",
      "  )\n",
      ")\n"
     ]
    }
   ],
   "execution_count": 15
  },
  {
   "cell_type": "markdown",
   "id": "93d1c211-abf1-414c-973e-c316b12b290a",
   "metadata": {},
   "source": [
    "### Displaying the network\n",
    "The print function does not display the resulting sizes and number of parameters. The summary function from torchinfo provides similar output as the function in keras "
   ]
  },
  {
   "cell_type": "code",
   "id": "e4e2f189-2d38-4081-9a1c-78c2caec56ca",
   "metadata": {
    "ExecuteTime": {
     "end_time": "2025-09-18T13:03:11.412588Z",
     "start_time": "2025-09-18T13:03:11.406863Z"
    }
   },
   "source": [
    "summary(my_cnn, input_size=(64, 1, 28, 28))"
   ],
   "outputs": [
    {
     "data": {
      "text/plain": [
       "==========================================================================================\n",
       "Layer (type:depth-idx)                   Output Shape              Param #\n",
       "==========================================================================================\n",
       "MyCNN                                    [64, 10]                  --\n",
       "├─Sequential: 1-1                        --                        --\n",
       "│    └─Conv2d: 2-1                       [64, 4, 26, 26]           40\n",
       "│    └─ReLU: 2-2                         [64, 4, 26, 26]           --\n",
       "│    └─MaxPool2d: 2-3                    [64, 4, 13, 13]           --\n",
       "│    └─Conv2d: 2-4                       [64, 8, 11, 11]           296\n",
       "│    └─ReLU: 2-5                         [64, 8, 11, 11]           --\n",
       "│    └─MaxPool2d: 2-6                    [64, 8, 5, 5]             --\n",
       "│    └─Conv2d: 2-7                       [64, 8, 3, 3]             584\n",
       "│    └─ReLU: 2-8                         [64, 8, 3, 3]             --\n",
       "│    └─Flatten: 2-9                      [64, 72]                  --\n",
       "│    └─Linear: 2-10                      [64, 120]                 8,760\n",
       "│    └─ReLU: 2-11                        [64, 120]                 --\n",
       "│    └─Linear: 2-12                      [64, 10]                  1,210\n",
       "==========================================================================================\n",
       "Total params: 10,890\n",
       "Trainable params: 10,890\n",
       "Non-trainable params: 0\n",
       "Total mult-adds (Units.MEGABYTES): 5.00\n",
       "==========================================================================================\n",
       "Input size (MB): 0.20\n",
       "Forward/backward pass size (MB): 1.98\n",
       "Params size (MB): 0.04\n",
       "Estimated Total Size (MB): 2.23\n",
       "=========================================================================================="
      ]
     },
     "execution_count": 16,
     "metadata": {},
     "output_type": "execute_result"
    }
   ],
   "execution_count": 16
  },
  {
   "cell_type": "markdown",
   "id": "06ee0e0e-c12c-4b44-b6dd-1325069f5ebc",
   "metadata": {},
   "source": [
    "### Loss function and optimizer\n",
    "We next define the loss function and the optimizer to use. We will use a simple optimizer for the moment"
   ]
  },
  {
   "cell_type": "code",
   "id": "c130f8fc-30e9-4261-bf46-96b4686bd6a6",
   "metadata": {
    "ExecuteTime": {
     "end_time": "2025-09-18T13:03:17.540180Z",
     "start_time": "2025-09-18T13:03:17.538473Z"
    }
   },
   "source": [
    "criterion = nn.CrossEntropyLoss()\n",
    "optimizer = optim.SGD(my_cnn.parameters(), lr=0.001, momentum=0.9)"
   ],
   "outputs": [],
   "execution_count": 17
  },
  {
   "cell_type": "markdown",
   "id": "b4c2266d-c30a-4d00-8eb9-7670630693de",
   "metadata": {},
   "source": [
    "### Device\n",
    "\n",
    "In pytorch, we must specify which device to use and move the input and the model to the device. Lets first have a simple function to get the device"
   ]
  },
  {
   "cell_type": "code",
   "id": "7a3ec064-1ad0-46dc-a5eb-8c24dd6e6727",
   "metadata": {
    "ExecuteTime": {
     "end_time": "2025-09-18T13:03:23.817359Z",
     "start_time": "2025-09-18T13:03:23.814533Z"
    }
   },
   "source": [
    "def get_device():\n",
    "    if torch.cuda.is_available():\n",
    "        device = torch.device('cuda')\n",
    "        # test if it worked\n",
    "        x = torch.ones(1, device=device)\n",
    "        print('Using CUDA device')\n",
    "\n",
    "    elif torch.backends.mps.is_available():\n",
    "        device = torch.device('mps')\n",
    "        x = torch.ones(1, device=device)\n",
    "        print('Using MPS device')\n",
    "    else:\n",
    "        print('Using CPU')\n",
    "        device = torch.device('cpu')\n",
    "    return device"
   ],
   "outputs": [],
   "execution_count": 18
  },
  {
   "cell_type": "code",
   "id": "f1e198f6-0f3d-41c3-a342-99fe7fe542f2",
   "metadata": {
    "ExecuteTime": {
     "end_time": "2025-09-18T13:03:25.010006Z",
     "start_time": "2025-09-18T13:03:24.887506Z"
    }
   },
   "source": [
    "device = get_device()"
   ],
   "outputs": [
    {
     "name": "stdout",
     "output_type": "stream",
     "text": [
      "Using MPS device\n"
     ]
    }
   ],
   "execution_count": 19
  },
  {
   "cell_type": "markdown",
   "id": "63e0e32f-82ce-44e6-bb33-f41d29419be3",
   "metadata": {},
   "source": [
    "### Simple train function\n",
    "Lets define a simple train function for one epoch."
   ]
  },
  {
   "cell_type": "code",
   "id": "5ac5ed5f-1b2c-4803-8650-c4ef298880ab",
   "metadata": {
    "ExecuteTime": {
     "end_time": "2025-09-18T13:03:35.767055Z",
     "start_time": "2025-09-18T13:03:35.763911Z"
    }
   },
   "source": [
    "def train_one_epoch(epoch_index, model, loss_function, optimizer, device):\n",
    "    model.to(device)\n",
    "    model.train(True)\n",
    "    running_loss = 0.\n",
    "    last_loss = 0.\n",
    "\n",
    "    # Here, we use enumerate(training_loader) instead of\n",
    "    # iter(training_loader) so that we can track the batch\n",
    "    # index and do some intra-epoch reporting\n",
    "    for i, data in enumerate(data_train_loader):\n",
    "        # Every data instance is an input + label pair\n",
    "        inputs, labels = data\n",
    "        inputs = inputs.to(device)\n",
    "        labels = labels.to(device)\n",
    "\n",
    "        # Zero your gradients for every batch!\n",
    "        optimizer.zero_grad()\n",
    "\n",
    "        # Make predictions for this batch\n",
    "        outputs = model(inputs)\n",
    "\n",
    "        # Compute the loss and its gradients\n",
    "        loss = loss_function(outputs, labels)\n",
    "        loss.backward()\n",
    "\n",
    "        # Adjust learning weights\n",
    "        optimizer.step()\n",
    "\n",
    "        # Gather data and report\n",
    "        running_loss += loss.item()\n",
    "        if i % 100 == 99:\n",
    "            last_loss = running_loss / 1000 # loss per batch\n",
    "            print(f'  batch {i+1} loss: {last_loss:.5f}'.format(i + 1, last_loss))\n",
    "            running_loss = 0.\n",
    "\n",
    "    return last_loss"
   ],
   "outputs": [],
   "execution_count": 20
  },
  {
   "cell_type": "code",
   "id": "efc2ec51-9e68-4070-9742-ff74022b4386",
   "metadata": {
    "ExecuteTime": {
     "end_time": "2025-09-18T13:03:43.815174Z",
     "start_time": "2025-09-18T13:03:37.693961Z"
    }
   },
   "source": [
    "EPOCHS = 2\n",
    "for epoch in range(EPOCHS):\n",
    "    print(f'EPOCH {epoch + 1}')\n",
    "\n",
    "    # Make sure gradient tracking is on, and do a pass over the data\n",
    "    my_cnn.train(True)\n",
    "    avg_loss = train_one_epoch(epoch, my_cnn, criterion, optimizer, device)\n",
    "    print(f'EPOCH {epoch + 1} Loss: {avg_loss:.5f}')\n"
   ],
   "outputs": [
    {
     "name": "stdout",
     "output_type": "stream",
     "text": [
      "EPOCH 1\n",
      "  batch 100 loss: 0.23033\n",
      "  batch 200 loss: 0.23018\n",
      "  batch 300 loss: 0.23012\n",
      "  batch 400 loss: 0.23018\n",
      "  batch 500 loss: 0.23003\n",
      "  batch 600 loss: 0.22995\n",
      "  batch 700 loss: 0.22989\n",
      "EPOCH 1 Loss: 0.22989\n",
      "EPOCH 2\n",
      "  batch 100 loss: 0.22967\n",
      "  batch 200 loss: 0.22952\n",
      "  batch 300 loss: 0.22944\n",
      "  batch 400 loss: 0.22914\n",
      "  batch 500 loss: 0.22877\n",
      "  batch 600 loss: 0.22838\n",
      "  batch 700 loss: 0.22742\n",
      "EPOCH 2 Loss: 0.22742\n"
     ]
    }
   ],
   "execution_count": 21
  },
  {
   "cell_type": "markdown",
   "id": "c57c0ce2-93e9-4f45-bdb9-6f5a6f185bd8",
   "metadata": {},
   "source": [
    "## Training and evaluation\n",
    "\n",
    "The code above works, however there are a couple of things missing:\n",
    "- first it would be more interesting to calculate some metrics in addition to the loss function\n",
    "- then, we should evaluate the loss and the metrics on the evaluation set\n",
    "- and thirdly, we would like to monitor the loss and metrics using graphics representation specially for longer training time\n",
    "\n",
    "We will use weights and biases (wandb) for the display. Another option is to use tensorboard."
   ]
  },
  {
   "cell_type": "code",
   "id": "f98d5b0d-16a6-4673-8cef-b79b33acd29f",
   "metadata": {
    "ExecuteTime": {
     "end_time": "2025-09-18T13:11:22.535356Z",
     "start_time": "2025-09-18T13:11:22.532062Z"
    }
   },
   "source": [
    "wandb.login()"
   ],
   "outputs": [
    {
     "data": {
      "text/plain": [
       "True"
      ]
     },
     "execution_count": 23,
     "metadata": {},
     "output_type": "execute_result"
    }
   ],
   "execution_count": 23
  },
  {
   "cell_type": "markdown",
   "id": "04896827-f8fc-47b3-9d4c-f131d1c35edf",
   "metadata": {},
   "source": [
    "### Training and evalution loop\n",
    "\n",
    "We define our a training loop that receives the model, loss function, optimizer, metrics and the device as parameters.\n",
    "\n",
    "There are different possibilities to do this, with wandb I find it easier to do training and evaluation in the same loop."
   ]
  },
  {
   "cell_type": "code",
   "id": "5bf1aff5-b600-4d37-bfc4-74db25bb4d10",
   "metadata": {
    "ExecuteTime": {
     "end_time": "2025-09-18T13:11:24.910280Z",
     "start_time": "2025-09-18T13:11:24.906045Z"
    }
   },
   "source": [
    "def train(epochs: int, model, loss_function, optimizer, metrics, device):\n",
    "    # define the project and store some setting for the projects to compare results later.\n",
    "    run = wandb.init(project=\"mnist-example\", config={'epochs': epochs, \n",
    "                                                       'batch_size': data_train_loader.batch_size}\n",
    "                                                       )\n",
    "    input_count = 0\n",
    "    step_count = 0\n",
    "    model = model.to(device)\n",
    "    \n",
    "    for epoch in range(epochs):\n",
    "        model.train()\n",
    "        metrics.reset()\n",
    "        for step, (inputs, labels) in enumerate(data_train_loader):\n",
    "            inputs = inputs.to(device)\n",
    "            labels = labels.to(device)\n",
    "            \n",
    "            # Zero your gradients for every batch!\n",
    "            optimizer.zero_grad()\n",
    "            # calculate results\n",
    "            outputs = model(inputs)\n",
    "            _, predicted = torch.max(outputs, 1)\n",
    "\n",
    "            train_loss = loss_function(outputs, labels)\n",
    "            train_loss.backward()\n",
    "            optimizer.step()\n",
    "\n",
    "            metrics.update(predicted, labels)\n",
    "            train_acc = metrics.compute()\n",
    "\n",
    "            # wandb will store the matrics with the step across x, so we also store the epoch\n",
    "            train_metrics = {'train/train_loss:': train_loss,\n",
    "                       'train/train_acc': train_acc,\n",
    "                       'train/epoch': epoch}\n",
    "\n",
    "            step_count += 1\n",
    "\n",
    "            wandb.log(train_metrics, step=step_count)\n",
    "\n",
    "        model.eval()\n",
    "        metrics.reset()\n",
    "        val_loss = []\n",
    "        val_steps = 0\n",
    "        for step, (inputs, labels) in enumerate(data_val_loader):\n",
    "            inputs = inputs.to(device)\n",
    "            labels = labels.to(device)\n",
    "            with torch.no_grad():\n",
    "                outputs = model(inputs)\n",
    "                _, predicted = torch.max(outputs, 1)\n",
    "\n",
    "                val_loss.append(loss_function(outputs, labels).item())\n",
    "                metrics.update(predicted, labels)\n",
    "\n",
    "        val_acc = metrics.compute()\n",
    "        val_loss_mean = np.mean(val_loss)\n",
    "        val_metrics = {'val/val_loss': val_loss_mean,\n",
    "                       'val/val_acc' : val_acc}\n",
    "        # log both metrics\n",
    "        wandb.log(val_metrics, step=step_count)\n",
    "\n",
    "        print(f\"Epoch {epoch:02} Train Loss: {train_loss:.3f}, Valid Loss: {val_loss_mean:.3f}, Train Accuracy: {train_acc:.2f} Valid Acc: {val_acc:.2f}\")\n",
    "    wandb.finish()\n",
    "                       \n",
    "            "
   ],
   "outputs": [],
   "execution_count": 24
  },
  {
   "cell_type": "code",
   "id": "b2812110-504d-4731-8c0f-7dfa20641d8c",
   "metadata": {
    "scrolled": true,
    "ExecuteTime": {
     "end_time": "2025-09-18T13:12:13.511072Z",
     "start_time": "2025-09-18T13:11:32.445701Z"
    }
   },
   "source": [
    "my_cnn = MyCNN()\n",
    "my_metrics = MulticlassAccuracy(num_classes=10)\n",
    "my_optimizer = optim.Adam(my_cnn.parameters(), lr=0.001)\n",
    "my_loss = nn.CrossEntropyLoss()\n",
    "\n",
    "train(10, my_cnn, criterion, my_optimizer, my_metrics, device)"
   ],
   "outputs": [
    {
     "data": {
      "text/plain": [
       "<IPython.core.display.HTML object>"
      ],
      "text/html": []
     },
     "metadata": {},
     "output_type": "display_data",
     "jetTransient": {
      "display_id": "c002cb39eb393e3c23049faec641708c"
     }
    },
    {
     "data": {
      "text/plain": [
       "<IPython.core.display.HTML object>"
      ],
      "text/html": [
       "Tracking run with wandb version 0.21.4"
      ]
     },
     "metadata": {},
     "output_type": "display_data",
     "jetTransient": {
      "display_id": null
     }
    },
    {
     "data": {
      "text/plain": [
       "<IPython.core.display.HTML object>"
      ],
      "text/html": [
       "Run data is saved locally in <code>/Users/marbetschar/Development/zhaw/ZHAW-Advanced-Deep-Learning/Week 1/wandb/run-20250918_151132-93k5ufuv</code>"
      ]
     },
     "metadata": {},
     "output_type": "display_data",
     "jetTransient": {
      "display_id": null
     }
    },
    {
     "data": {
      "text/plain": [
       "<IPython.core.display.HTML object>"
      ],
      "text/html": [
       "Syncing run <strong><a href='https://wandb.ai/marbetschar-zhaw/mnist-example/runs/93k5ufuv' target=\"_blank\">still-spaceship-1</a></strong> to <a href='https://wandb.ai/marbetschar-zhaw/mnist-example' target=\"_blank\">Weights & Biases</a> (<a href='https://wandb.me/developer-guide' target=\"_blank\">docs</a>)<br>"
      ]
     },
     "metadata": {},
     "output_type": "display_data",
     "jetTransient": {
      "display_id": null
     }
    },
    {
     "data": {
      "text/plain": [
       "<IPython.core.display.HTML object>"
      ],
      "text/html": [
       " View project at <a href='https://wandb.ai/marbetschar-zhaw/mnist-example' target=\"_blank\">https://wandb.ai/marbetschar-zhaw/mnist-example</a>"
      ]
     },
     "metadata": {},
     "output_type": "display_data",
     "jetTransient": {
      "display_id": null
     }
    },
    {
     "data": {
      "text/plain": [
       "<IPython.core.display.HTML object>"
      ],
      "text/html": [
       " View run at <a href='https://wandb.ai/marbetschar-zhaw/mnist-example/runs/93k5ufuv' target=\"_blank\">https://wandb.ai/marbetschar-zhaw/mnist-example/runs/93k5ufuv</a>"
      ]
     },
     "metadata": {},
     "output_type": "display_data",
     "jetTransient": {
      "display_id": null
     }
    },
    {
     "name": "stdout",
     "output_type": "stream",
     "text": [
      "Epoch 00 Train Loss: 0.215, Valid Loss: 0.217, Train Accuracy: 0.84 Valid Acc: 0.94\n",
      "Epoch 01 Train Loss: 0.069, Valid Loss: 0.133, Train Accuracy: 0.95 Valid Acc: 0.96\n",
      "Epoch 02 Train Loss: 0.093, Valid Loss: 0.103, Train Accuracy: 0.96 Valid Acc: 0.97\n",
      "Epoch 03 Train Loss: 0.014, Valid Loss: 0.088, Train Accuracy: 0.97 Valid Acc: 0.97\n",
      "Epoch 04 Train Loss: 0.129, Valid Loss: 0.079, Train Accuracy: 0.98 Valid Acc: 0.97\n",
      "Epoch 05 Train Loss: 0.230, Valid Loss: 0.101, Train Accuracy: 0.98 Valid Acc: 0.97\n",
      "Epoch 06 Train Loss: 0.024, Valid Loss: 0.066, Train Accuracy: 0.98 Valid Acc: 0.98\n",
      "Epoch 07 Train Loss: 0.079, Valid Loss: 0.061, Train Accuracy: 0.98 Valid Acc: 0.98\n",
      "Epoch 08 Train Loss: 0.128, Valid Loss: 0.062, Train Accuracy: 0.98 Valid Acc: 0.98\n",
      "Epoch 09 Train Loss: 0.011, Valid Loss: 0.055, Train Accuracy: 0.98 Valid Acc: 0.98\n"
     ]
    },
    {
     "data": {
      "text/plain": [
       "<IPython.core.display.HTML object>"
      ],
      "text/html": []
     },
     "metadata": {},
     "output_type": "display_data",
     "jetTransient": {
      "display_id": "4ea3a391706ed68576d240fbc3df2396"
     }
    },
    {
     "data": {
      "text/plain": [
       "<IPython.core.display.HTML object>"
      ],
      "text/html": [
       "<br>    <style><br>        .wandb-row {<br>            display: flex;<br>            flex-direction: row;<br>            flex-wrap: wrap;<br>            justify-content: flex-start;<br>            width: 100%;<br>        }<br>        .wandb-col {<br>            display: flex;<br>            flex-direction: column;<br>            flex-basis: 100%;<br>            flex: 1;<br>            padding: 10px;<br>        }<br>    </style><br><div class=\"wandb-row\"><div class=\"wandb-col\"><h3>Run history:</h3><br/><table class=\"wandb\"><tr><td>train/epoch</td><td>▁▁▁▁▁▃▃▃▃▃▃▃▄▄▄▄▄▄▅▅▆▆▆▆▆▆▆▆▆▆▇▇▇▇▇▇▇███</td></tr><tr><td>train/train_acc</td><td>▁▆▆▆▇███████████████████████████████████</td></tr><tr><td>train/train_loss:</td><td>█▃▃▂▃▂▁▁▁▃▁▁▃▂▁▂▁▁▁▂▁▂▁▁▁▁▂▁▁▁▁▂▁▁▁▁▁▁▁▁</td></tr><tr><td>val/val_acc</td><td>▁▄▆▆▇▆▇███</td></tr><tr><td>val/val_loss</td><td>█▄▃▂▂▃▁▁▁▁</td></tr></table><br/></div><div class=\"wandb-col\"><h3>Run summary:</h3><br/><table class=\"wandb\"><tr><td>train/epoch</td><td>9</td></tr><tr><td>train/train_acc</td><td>0.98369</td></tr><tr><td>train/train_loss:</td><td>0.01086</td></tr><tr><td>val/val_acc</td><td>0.98292</td></tr><tr><td>val/val_loss</td><td>0.05493</td></tr></table><br/></div></div>"
      ]
     },
     "metadata": {},
     "output_type": "display_data",
     "jetTransient": {
      "display_id": null
     }
    },
    {
     "data": {
      "text/plain": [
       "<IPython.core.display.HTML object>"
      ],
      "text/html": [
       " View run <strong style=\"color:#cdcd00\">still-spaceship-1</strong> at: <a href='https://wandb.ai/marbetschar-zhaw/mnist-example/runs/93k5ufuv' target=\"_blank\">https://wandb.ai/marbetschar-zhaw/mnist-example/runs/93k5ufuv</a><br> View project at: <a href='https://wandb.ai/marbetschar-zhaw/mnist-example' target=\"_blank\">https://wandb.ai/marbetschar-zhaw/mnist-example</a><br>Synced 5 W&B file(s), 0 media file(s), 0 artifact file(s) and 0 other file(s)"
      ]
     },
     "metadata": {},
     "output_type": "display_data",
     "jetTransient": {
      "display_id": null
     }
    },
    {
     "data": {
      "text/plain": [
       "<IPython.core.display.HTML object>"
      ],
      "text/html": [
       "Find logs at: <code>./wandb/run-20250918_151132-93k5ufuv/logs</code>"
      ]
     },
     "metadata": {},
     "output_type": "display_data",
     "jetTransient": {
      "display_id": null
     }
    }
   ],
   "execution_count": 25
  },
  {
   "cell_type": "markdown",
   "id": "c26d6cd2-e2bf-418c-9506-45bb9617b38a",
   "metadata": {},
   "source": [
    "## Exercise 1.1: Autoencoder\n",
    "\n",
    "In exercise 1.1, you should implement an autoencoder. In an autoencoder, we would like to compress the input image into a small representation, this is the encoder part and then decode this representation again into an image.\n",
    "\n",
    "The resulting image should be similar to the input image.\n",
    "\n",
    "The size of the encoded representation, the so called latent variables should be a parameter to the class."
   ]
  },
  {
   "cell_type": "code",
   "execution_count": null,
   "id": "cb306a22-6bd2-490e-b612-c60ca184e3f6",
   "metadata": {},
   "outputs": [],
   "source": [
    "class Autoencoder(nn.Module):\n",
    "    def __init__(self, latent_dim: int):\n",
    "        super(Autoencoder,self).__init__()\n",
    "        self.latent_dim = latent_dim\n",
    "        self.encoder = nn.Sequential(\n",
    "            # ... fill the layers here\n",
    "            )\n",
    "        self.decoder = nn.Sequential(\n",
    "            # fill the layers here\n",
    "           \n",
    "            )\n",
    "    def forward(self, x):\n",
    "        enc = self.encoder(x)\n",
    "        dec = self.decoder(enc)\n",
    "        return dec\n",
    "    "
   ]
  },
  {
   "cell_type": "markdown",
   "id": "dbe2d449-05ba-49a0-8607-fee8e406e625",
   "metadata": {},
   "source": [
    "Next steps:\n",
    "\n",
    "- Adapt the training loop above for the autoencoder\n",
    "- Train the autoencoder, adjusting hyper parameters if necessary\n",
    "- Visualize the results, i.e. the decoded image\n",
    "- Try different number of latent variables, for example 2 and 10\n",
    "- Visualize the latent variables (for 2)"
   ]
  },
  {
   "cell_type": "markdown",
   "id": "9bb4a499-ca1d-48ea-b0fb-e217c74d6973",
   "metadata": {},
   "source": []
  },
  {
   "cell_type": "markdown",
   "id": "5064bd79-f92a-4f4d-bbed-6525e4334995",
   "metadata": {},
   "source": [
    "## Exercise 1.2: Two headed network with autoencoder and classificator\n",
    "\n",
    "Next we want to train a model that can do both the autoencoder and the classification. One idea of this approach is to force the model to learn a representation that works well for reconstruction and classification. The classification head should branch off after the encoding part."
   ]
  },
  {
   "cell_type": "code",
   "execution_count": null,
   "id": "e5d8d957-fba8-4f2c-b923-0d21f823a8c8",
   "metadata": {},
   "outputs": [],
   "source": [
    "class EncoderAndClassificator(nn.Module):\n",
    "    def __init__(self, latent_dim: int):\n",
    "        super(EncoderAndClassificator,self).__init__()\n",
    "        self.latent_dim = latent_dim\n",
    "        self.encoder = nn.Sequential(\n",
    "            )\n",
    "        self.decoder = nn.Sequential(\n",
    "           \n",
    "            )\n",
    "        self.classifier = nn.Sequential (\n",
    "           \n",
    "        )\n",
    "    def forward(self, x):\n",
    "        enc = self.encoder(x)\n",
    "        dec = self.decoder(enc)\n",
    "        logits = self.classifier(enc)\n",
    "        return dec, logits"
   ]
  },
  {
   "cell_type": "markdown",
   "id": "ad74fa1c-13f0-4cd9-be8b-e449564e751e",
   "metadata": {},
   "source": [
    "Next steps:\n",
    "- Adapt the training loop, how is the loss calculated?\n",
    "- Train the model and compare it to the two seperate models above"
   ]
  }
 ],
 "metadata": {
  "kernelspec": {
   "display_name": "Python 3 (ipykernel)",
   "language": "python",
   "name": "python3"
  },
  "language_info": {
   "codemirror_mode": {
    "name": "ipython",
    "version": 3
   },
   "file_extension": ".py",
   "mimetype": "text/x-python",
   "name": "python",
   "nbconvert_exporter": "python",
   "pygments_lexer": "ipython3",
   "version": "3.12.4"
  }
 },
 "nbformat": 4,
 "nbformat_minor": 5
}
