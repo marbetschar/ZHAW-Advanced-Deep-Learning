{
 "cells": [
  {
   "cell_type": "markdown",
   "id": "e4291daa-e8ea-4475-a1bf-96833fa13a82",
   "metadata": {},
   "source": [
    "# RNNs and sequence processing\n",
    "\n",
    "## Tutorial and homework 1: Sentiment Analysis\n",
    "\n",
    "We will look at a simple example of sequence processing in sentiment analysis. Sentiment analysis is used to determine the emotion in a text. \n",
    "\n",
    "We will use a data set from IMDB consisting of movie reviews and are only interested if they are positive or negative (http://ai.stanford.edu/~amaas/data/sentiment/)\n",
    "\n",
    "In addition to the libraries installed last time, we will also neet torchtext and datasets: \n",
    "\n",
    "pip install torchtext\n",
    "pip install datasets"
   ]
  },
  {
   "cell_type": "code",
   "id": "ffb3bca6-8711-4bd1-a54c-eae0a4966c19",
   "metadata": {
    "ExecuteTime": {
     "end_time": "2025-09-29T08:07:23.642222Z",
     "start_time": "2025-09-29T08:07:21.212225Z"
    }
   },
   "source": [
    "import collections\n",
    "\n",
    "import datasets\n",
    "import matplotlib.pyplot as plt\n",
    "import numpy as np\n",
    "import torch\n",
    "import torch.nn as nn\n",
    "import torch.optim as optim\n",
    "import tqdm\n",
    "import os\n",
    "import re\n",
    "from collections import Counter"
   ],
   "outputs": [
    {
     "name": "stderr",
     "output_type": "stream",
     "text": [
      "/Users/marbetschar/miniconda3/envs/ZHAW-Advanced-Deep-Learning/lib/python3.13/site-packages/tqdm/auto.py:21: TqdmWarning: IProgress not found. Please update jupyter and ipywidgets. See https://ipywidgets.readthedocs.io/en/stable/user_install.html\n",
      "  from .autonotebook import tqdm as notebook_tqdm\n"
     ]
    }
   ],
   "execution_count": 1
  },
  {
   "cell_type": "code",
   "id": "71c9077d-ddea-4a6c-9a65-4f45814e2295",
   "metadata": {
    "ExecuteTime": {
     "end_time": "2025-09-29T08:08:21.278976Z",
     "start_time": "2025-09-29T08:08:21.272781Z"
    }
   },
   "source": [
    "seed = 1234\n",
    "\n",
    "np.random.seed(seed)\n",
    "torch.manual_seed(seed)\n",
    "torch.cuda.manual_seed(seed)\n",
    "torch.backends.cudnn.deterministic = True"
   ],
   "outputs": [],
   "execution_count": 2
  },
  {
   "cell_type": "markdown",
   "id": "d5969ca5-546f-4b87-b0fe-59caa38f2e80",
   "metadata": {},
   "source": [
    "### Loading and Preprocessing the IMDb Dataset\n",
    "\n",
    "We’ll use datasets to load and preprocess the IMDb dataset (it is also available from torchtext)\n",
    "- TorchText makes it easy to handle text data, including tokenization, padding, and batch generation.\n",
    "- IMDB Dataset consists of movie reviews labeled as positive or negative."
   ]
  },
  {
   "cell_type": "code",
   "id": "cbb8a673-db3f-4a5b-bb24-35d98aafe6af",
   "metadata": {
    "ExecuteTime": {
     "end_time": "2025-09-29T08:08:41.183104Z",
     "start_time": "2025-09-29T08:08:38.104947Z"
    }
   },
   "source": [
    "train_data, test_data = datasets.load_dataset(\"imdb\", split=[\"train\", \"test\"])\n",
    "train_data"
   ],
   "outputs": [
    {
     "data": {
      "text/plain": [
       "Dataset({\n",
       "    features: ['text', 'label'],\n",
       "    num_rows: 25000\n",
       "})"
      ]
     },
     "execution_count": 3,
     "metadata": {},
     "output_type": "execute_result"
    }
   ],
   "execution_count": 3
  },
  {
   "cell_type": "markdown",
   "id": "f344b68f-b677-494c-9cae-bf066f0d401a",
   "metadata": {},
   "source": [
    "### Tokenizer\n",
    "We will use a tokinizer to split the sentences in words. This tokenizer will normalize english text first and then extract the words."
   ]
  },
  {
   "cell_type": "code",
   "id": "4645d12b-a223-433f-94be-5dfb6f6db617",
   "metadata": {
    "ExecuteTime": {
     "end_time": "2025-09-29T08:09:08.605309Z",
     "start_time": "2025-09-29T08:09:08.603472Z"
    }
   },
   "source": [
    "# Replacement for torchtext.data.utils.get_tokenizer(\"basic_english\")\n",
    "def basic_english_tokenizer(text: str):\n",
    "    text = text.lower()\n",
    "    # Unify HTML breaks etc.\n",
    "    text = text.replace(\"<br />\", \" \")\n",
    "    # Separate punctuation (keep apostrophes for contractions)\n",
    "    text = re.sub(r\"([.,!?;:()\\\"“”‘’\\-])\", r\" \\1 \", text)\n",
    "    # Collapse multiple spaces\n",
    "    text = re.sub(r\"\\s+\", \" \", text).strip()\n",
    "    return text.split()\n",
    "\n",
    "tokenizer = basic_english_tokenizer"
   ],
   "outputs": [],
   "execution_count": 5
  },
  {
   "cell_type": "code",
   "id": "d5a90d26-54cc-4020-ac4c-7a454d84723b",
   "metadata": {
    "ExecuteTime": {
     "end_time": "2025-09-29T08:09:13.799929Z",
     "start_time": "2025-09-29T08:09:13.797770Z"
    }
   },
   "source": [
    "def tokenize_example(example, tokenizer, max_length):\n",
    "    tokens = tokenizer(example[\"text\"])[:max_length]\n",
    "    length = len(tokens)\n",
    "    return {\"tokens\": tokens, \"length\": length}"
   ],
   "outputs": [],
   "execution_count": 6
  },
  {
   "cell_type": "markdown",
   "id": "60ffea7b-20d1-41e4-a3f9-e0e2283d6079",
   "metadata": {},
   "source": [
    "### Token sequence\n",
    "This will transfer the input data into sequences of words of a maximal length. While the model does not require the sequences to have the same length, it is needed for batch processing later.\n",
    "\n",
    "We then split the data sets."
   ]
  },
  {
   "cell_type": "code",
   "id": "e4ddde67-d79b-4dab-b7e1-b0b1d07b5e03",
   "metadata": {
    "ExecuteTime": {
     "end_time": "2025-09-29T08:09:23.306991Z",
     "start_time": "2025-09-29T08:09:20.382833Z"
    }
   },
   "source": [
    "max_length = 256\n",
    "\n",
    "train_data = train_data.map(\n",
    "    tokenize_example, fn_kwargs={\"tokenizer\": tokenizer, \"max_length\": max_length}\n",
    ")\n",
    "test_data = test_data.map(\n",
    "    tokenize_example, fn_kwargs={\"tokenizer\": tokenizer, \"max_length\": max_length}\n",
    ")"
   ],
   "outputs": [
    {
     "name": "stderr",
     "output_type": "stream",
     "text": [
      "Map: 100%|██████████| 25000/25000 [00:01<00:00, 16544.98 examples/s]\n",
      "Map: 100%|██████████| 25000/25000 [00:01<00:00, 17750.94 examples/s]\n"
     ]
    }
   ],
   "execution_count": 7
  },
  {
   "cell_type": "code",
   "id": "2244709b-2255-409a-ad96-812d7dcf6230",
   "metadata": {
    "ExecuteTime": {
     "end_time": "2025-09-29T08:09:36.215059Z",
     "start_time": "2025-09-29T08:09:36.205206Z"
    }
   },
   "source": [
    "test_size = 0.25\n",
    "\n",
    "train_valid_data = train_data.train_test_split(test_size=test_size)\n",
    "train_data = train_valid_data[\"train\"]\n",
    "valid_data = train_valid_data[\"test\"]"
   ],
   "outputs": [],
   "execution_count": 8
  },
  {
   "cell_type": "markdown",
   "id": "2d8c86b2-84da-485f-8aea-4320a151ce36",
   "metadata": {},
   "source": [
    "### Vocabulary\n",
    "\n",
    "Next we build the vocabulary of all words in the set and add two special \"words\" for unknown and padding."
   ]
  },
  {
   "cell_type": "code",
   "id": "da1ac450-e307-4c44-91c1-1355a12c91d7",
   "metadata": {
    "ExecuteTime": {
     "end_time": "2025-09-29T08:10:31.139499Z",
     "start_time": "2025-09-29T08:10:30.157716Z"
    }
   },
   "source": [
    "# Replacement for torchtext.vocab.build_vocab_from_iterator and torchtext.vocab.Vocab\n",
    "class Vocab:\n",
    "    def __init__(self, counter: Counter, min_freq: int = 1, specials=None):\n",
    "        if specials is None:\n",
    "            specials = []\n",
    "        # Ensure special tokens are at the beginning\n",
    "        self.itos = list(specials)\n",
    "        # Filter tokens by min_freq and exclude specials duplicates\n",
    "        tokens = [tok for tok, freq in counter.items() if freq >= min_freq and tok not in specials]\n",
    "        tokens.sort()\n",
    "        self.itos.extend(tokens)\n",
    "        self.stoi = {tok: idx for idx, tok in enumerate(self.itos)}\n",
    "        self.default_index = 0  # default to first special (e.g., <unk>)\n",
    "\n",
    "    def __len__(self):\n",
    "        return len(self.itos)\n",
    "\n",
    "    def __getitem__(self, token: str) -> int:\n",
    "        return self.stoi.get(token, self.default_index)\n",
    "\n",
    "    def set_default_index(self, idx: int):\n",
    "        self.default_index = idx\n",
    "\n",
    "    def get_itos(self):\n",
    "        return self.itos\n",
    "\n",
    "    def lookup_indices(self, tokens):\n",
    "        return [self.stoi.get(t, self.default_index) for t in tokens]\n",
    "\n",
    "min_freq = 5\n",
    "special_tokens = [\"<unk>\", \"<pad>\"]\n",
    "\n",
    "token_counter = Counter()\n",
    "for tokens in train_data[\"tokens\"]:\n",
    "    token_counter.update(tokens)\n",
    "\n",
    "vocab = Vocab(token_counter, min_freq=min_freq, specials=special_tokens)\n",
    "\n",
    "unk_index = vocab[\"<unk>\"]\n",
    "pad_index = vocab[\"<pad>\"]\n",
    "\n",
    "vocab.set_default_index(unk_index)"
   ],
   "outputs": [],
   "execution_count": 9
  },
  {
   "cell_type": "code",
   "id": "6a89ad0c-521d-406c-b657-2b457795b73a",
   "metadata": {
    "ExecuteTime": {
     "end_time": "2025-09-29T08:10:39.518943Z",
     "start_time": "2025-09-29T08:10:39.516491Z"
    }
   },
   "source": [
    "def numericalize_example(example, vocab):\n",
    "    ids = vocab.lookup_indices(example[\"tokens\"])\n",
    "    return {\"ids\": ids}"
   ],
   "outputs": [],
   "execution_count": 10
  },
  {
   "cell_type": "code",
   "id": "ac783c13-40ef-49e5-873d-2030eceb5429",
   "metadata": {
    "ExecuteTime": {
     "end_time": "2025-09-29T08:10:45.794915Z",
     "start_time": "2025-09-29T08:10:41.532431Z"
    }
   },
   "source": [
    "train_data = train_data.map(numericalize_example, fn_kwargs={\"vocab\": vocab})\n",
    "valid_data = valid_data.map(numericalize_example, fn_kwargs={\"vocab\": vocab})\n",
    "test_data = test_data.map(numericalize_example, fn_kwargs={\"vocab\": vocab})"
   ],
   "outputs": [
    {
     "name": "stderr",
     "output_type": "stream",
     "text": [
      "Map: 100%|██████████| 18750/18750 [00:01<00:00, 11828.65 examples/s]\n",
      "Map: 100%|██████████| 6250/6250 [00:00<00:00, 11456.69 examples/s]\n",
      "Map: 100%|██████████| 25000/25000 [00:02<00:00, 12491.12 examples/s]\n"
     ]
    }
   ],
   "execution_count": 11
  },
  {
   "cell_type": "code",
   "id": "8323344c-4c4b-4970-b503-85bbec3bcfb4",
   "metadata": {
    "ExecuteTime": {
     "end_time": "2025-09-29T08:10:48.008261Z",
     "start_time": "2025-09-29T08:10:48.004463Z"
    }
   },
   "source": [
    "train_data = train_data.with_format(type=\"torch\", columns=[\"ids\", \"label\", \"length\"])\n",
    "valid_data = valid_data.with_format(type=\"torch\", columns=[\"ids\", \"label\", \"length\"])\n",
    "test_data = test_data.with_format(type=\"torch\", columns=[\"ids\", \"label\", \"length\"])"
   ],
   "outputs": [],
   "execution_count": 12
  },
  {
   "cell_type": "code",
   "id": "4cfc2446-cff7-4f44-bc23-08570a39ec31",
   "metadata": {
    "ExecuteTime": {
     "end_time": "2025-09-29T08:10:49.780603Z",
     "start_time": "2025-09-29T08:10:49.765816Z"
    }
   },
   "source": "train_data[0]",
   "outputs": [
    {
     "data": {
      "text/plain": [
       "{'label': tensor(1),\n",
       " 'length': tensor(133),\n",
       " 'ids': tensor([11758,   161, 19698, 10538, 15596, 14963, 13794, 13713, 19614,  2263,\n",
       "         13028,  1108,  9153, 19862, 13727, 19614, 16319, 13713, 19614, 21668,\n",
       "           163, 19862,  9169, 19698, 13023, 10538, 19862,  9169,  8059, 10584,\n",
       "           163,  9826, 16127, 19605, 19614,  6433,   445, 21374,   490, 19816,\n",
       "         13713, 20413,   163, 19614,  6481, 21236, 21294,   161,  4215, 19729,\n",
       "         20763,  1000,   161,  1173, 13576,  5601, 21236,  1036,   490,  3496,\n",
       "           163, 13941, 13713, 19605,  4399,  3146,   490,  9381,   161,     0,\n",
       "           617,   163, 13289,  2106, 14459, 10033, 19698, 13023, 17675,  9221,\n",
       "         21236, 13358,   855, 19862,  2075, 20343,  3373,  1528,   490, 13794,\n",
       "          5752, 20943, 10033, 19614, 21497,   163,  9487, 20215, 10538,  1148,\n",
       "         10301, 19862,  1000,   163, 19614, 13792,   162, 17167,  3659,  2285,\n",
       "          3030,  1173, 11756,  6211, 13678,  4235, 19862,  2726,  1173, 10695,\n",
       "           163, 10735, 13168, 10538,   490, 14823,   163,  8552, 17264, 19698,\n",
       "         13023, 19918,     2])}"
      ]
     },
     "execution_count": 13,
     "metadata": {},
     "output_type": "execute_result"
    }
   ],
   "execution_count": 13
  },
  {
   "cell_type": "markdown",
   "id": "512352f1-7b44-4d98-92b3-4d3bc1f3a89c",
   "metadata": {},
   "source": [
    "### Creating Batches\n",
    "\n",
    "Next we create batches out of the data with the same length and store the indices, actual length and label in the batch."
   ]
  },
  {
   "cell_type": "code",
   "id": "56911a3d-9224-45e4-8885-b802954e274e",
   "metadata": {
    "ExecuteTime": {
     "end_time": "2025-09-29T08:11:00.291413Z",
     "start_time": "2025-09-29T08:11:00.288980Z"
    }
   },
   "source": [
    "def get_collate_fn(pad_index):\n",
    "    def collate_fn(batch):\n",
    "        batch_ids = [i[\"ids\"] for i in batch]\n",
    "        batch_ids = nn.utils.rnn.pad_sequence(\n",
    "            batch_ids, padding_value=pad_index, batch_first=True\n",
    "        )\n",
    "        batch_length = [i[\"length\"] for i in batch]\n",
    "        batch_length = torch.stack(batch_length)\n",
    "        batch_label = [i[\"label\"] for i in batch]\n",
    "        batch_label = torch.stack(batch_label)\n",
    "        batch = {\"ids\": batch_ids, \"length\": batch_length, \"label\": batch_label}\n",
    "        return batch\n",
    "\n",
    "    return collate_fn"
   ],
   "outputs": [],
   "execution_count": 14
  },
  {
   "cell_type": "code",
   "id": "fc932aea-0a2d-4a22-a655-59bbe048027b",
   "metadata": {
    "ExecuteTime": {
     "end_time": "2025-09-29T08:11:01.148782Z",
     "start_time": "2025-09-29T08:11:01.147142Z"
    }
   },
   "source": [
    "def get_data_loader(dataset, batch_size, pad_index, shuffle=False):\n",
    "    collate_fn = get_collate_fn(pad_index)\n",
    "    data_loader = torch.utils.data.DataLoader(\n",
    "        dataset=dataset,\n",
    "        batch_size=batch_size,\n",
    "        collate_fn=collate_fn,\n",
    "        shuffle=shuffle,\n",
    "    )\n",
    "    return data_loader"
   ],
   "outputs": [],
   "execution_count": 15
  },
  {
   "cell_type": "code",
   "id": "a1293e9a-2682-4cd8-9bf2-9bebcfa9edf9",
   "metadata": {
    "ExecuteTime": {
     "end_time": "2025-09-29T08:11:03.306376Z",
     "start_time": "2025-09-29T08:11:03.303524Z"
    }
   },
   "source": [
    "batch_size = 512\n",
    "\n",
    "train_data_loader = get_data_loader(train_data, batch_size, pad_index, shuffle=True)\n",
    "valid_data_loader = get_data_loader(valid_data, batch_size, pad_index)\n",
    "test_data_loader = get_data_loader(test_data, batch_size, pad_index)"
   ],
   "outputs": [],
   "execution_count": 16
  },
  {
   "cell_type": "markdown",
   "id": "ff3247b2-ec26-43ee-9506-83676edff0ed",
   "metadata": {},
   "source": [
    "### RNN Model\n",
    "\n",
    "Now we can build a model, we will use a RNN Model first. It includes\n",
    "\n",
    "- Embedding Layer: Turns words into dense vectors.\n",
    "- RNN Layer: A simple recurrent layer to capture sequence information.\n",
    "- Fully Connected Layer: To classify the output."
   ]
  },
  {
   "cell_type": "code",
   "id": "0ec9c695-3f42-474d-952b-8e56cfa1d299",
   "metadata": {
    "ExecuteTime": {
     "end_time": "2025-09-29T08:11:07.758219Z",
     "start_time": "2025-09-29T08:11:07.754405Z"
    }
   },
   "source": [
    "class RNN(nn.Module):\n",
    "    def __init__(self, vocab_size, embedding_dim, hidden_dim, output_dim, n_layers, \n",
    "                 bidirectional, dropout, pad_idx):\n",
    "        super().__init__()\n",
    "\n",
    "        self.embedding = nn.Embedding(vocab_size, embedding_dim, padding_idx=pad_idx)\n",
    "        self.rnn = nn.RNN(embedding_dim, hidden_dim, num_layers=n_layers, \n",
    "                          bidirectional=bidirectional, dropout=dropout, batch_first=True)\n",
    "        self.fc = nn.Linear(hidden_dim * 2 if bidirectional else hidden_dim, output_dim)\n",
    "        self.dropout = nn.Dropout(dropout)\n",
    "\n",
    "    def forward(self, ids, length):\n",
    "        # ids = [batch size, seq len]\n",
    "        # length = [batch size]\n",
    "        embedded = self.dropout(self.embedding(ids))\n",
    "        # embedded = [batch size, seq len, embedding dim]\n",
    "        packed_embedded = nn.utils.rnn.pack_padded_sequence(\n",
    "            embedded, length, batch_first=True, enforce_sorted=False\n",
    "        )\n",
    "        packed_output, hidden = self.rnn(packed_embedded)\n",
    "        # hidden = [n layers * n directions, batch size, hidden dim]\n",
    "\n",
    "        output, output_length = nn.utils.rnn.pad_packed_sequence(packed_output)\n",
    "        # output = [batch size, seq len, hidden dim * n directions]\n",
    "        if self.rnn.bidirectional:\n",
    "            hidden = self.dropout(torch.cat([hidden[-1], hidden[-2]], dim=-1))\n",
    "            # hidden = [batch size, hidden dim * 2]\n",
    "        else:\n",
    "            hidden = self.dropout(hidden[-1])\n",
    "            # hidden = [batch size, hidden dim]\n",
    "        prediction = self.fc(hidden)\n",
    "        # prediction = [batch size, output dim]\n",
    "        return prediction\n",
    "  "
   ],
   "outputs": [],
   "execution_count": 17
  },
  {
   "cell_type": "code",
   "id": "f04f6041-9a3a-45b2-9f74-096205180508",
   "metadata": {
    "ExecuteTime": {
     "end_time": "2025-09-29T08:11:09.223800Z",
     "start_time": "2025-09-29T08:11:09.153551Z"
    }
   },
   "source": [
    "vocab_size = len(vocab)\n",
    "embedding_dim = 300\n",
    "hidden_dim = 300\n",
    "output_dim = len(train_data.unique(\"label\"))\n",
    "n_layers = 2\n",
    "bidirectional = True\n",
    "dropout_rate = 0.5\n",
    "\n",
    "model = RNN(\n",
    "    vocab_size,\n",
    "    embedding_dim,\n",
    "    hidden_dim,\n",
    "    output_dim,\n",
    "    n_layers,\n",
    "    bidirectional,\n",
    "    dropout_rate,\n",
    "    pad_index,\n",
    ")"
   ],
   "outputs": [],
   "execution_count": 18
  },
  {
   "cell_type": "code",
   "id": "815bd833-5744-4562-8300-a528502b2698",
   "metadata": {
    "ExecuteTime": {
     "end_time": "2025-09-29T08:11:11.748099Z",
     "start_time": "2025-09-29T08:11:11.745626Z"
    }
   },
   "source": [
    "def count_parameters(model):\n",
    "    return sum(p.numel() for p in model.parameters() if p.requires_grad)\n",
    "\n",
    "\n",
    "print(f\"The model has {count_parameters(model):,} trainable parameters\")"
   ],
   "outputs": [
    {
     "name": "stdout",
     "output_type": "stream",
     "text": [
      "The model has 7,484,102 trainable parameters\n"
     ]
    }
   ],
   "execution_count": 19
  },
  {
   "cell_type": "markdown",
   "id": "7b443ae8-14b2-4d83-b1ed-6f24c0eb41aa",
   "metadata": {},
   "source": [
    "### Pretrained embeddings\n",
    "\n",
    "The model will learn the embeddings too, which is a bit difficult from the limited data. Results will be much better if a pretrained model is used for that.\n",
    "\n",
    "We will use glove (https://nlp.stanford.edu/projects/glove/)\n",
    "\n",
    "The following code will download and cache the vectors. The data set is quite large so you can also omit this first..."
   ]
  },
  {
   "cell_type": "code",
   "id": "00a7bb71-a00e-48cf-8d5e-3c317c372d7f",
   "metadata": {
    "ExecuteTime": {
     "end_time": "2025-09-29T08:11:55.835012Z",
     "start_time": "2025-09-29T08:11:55.832451Z"
    }
   },
   "source": [
    "# Replacement for torchtext.vocab.GloVe()\n",
    "def _find_glove_file(embedding_dim: int = 300):\n",
    "    candidates = [\n",
    "        f\".vector_cache/glove.6B.{embedding_dim}d.txt\",\n",
    "        f\"Week 2/.vector_cache/glove.6B.{embedding_dim}d.txt\",\n",
    "        f\"week 2/.vector_cache/glove.6B.{embedding_dim}d.txt\",\n",
    "    ]\n",
    "    for path in candidates:\n",
    "        if os.path.exists(path):\n",
    "            return path\n",
    "    return None\n",
    "\n",
    "def load_glove_as_matrix(vocab, embedding_dim=300):\n",
    "    glove_path = _find_glove_file(embedding_dim)\n",
    "    if glove_path is None:\n",
    "        print(f\"GloVe file not found. Proceeding without pretrained embeddings.\")\n",
    "        return None\n",
    "    print(f\"Loading GloVe from: {glove_path}\")\n",
    "    embeddings = torch.randn(len(vocab), embedding_dim) * 0.01\n",
    "    # Initialize pad and unk to zeros\n",
    "    if \"<pad>\" in vocab.stoi:\n",
    "        embeddings[vocab[\"<pad>\"]] = torch.zeros(embedding_dim)\n",
    "    if \"<unk>\" in vocab.stoi:\n",
    "        embeddings[vocab[\"<unk>\"]] = torch.zeros(embedding_dim)\n",
    "    stoi = vocab.stoi\n",
    "    found = 0\n",
    "    with open(glove_path, \"r\", encoding=\"utf8\") as f:\n",
    "        for line in f:\n",
    "            parts = line.rstrip().split(\" \")\n",
    "            token = parts[0]\n",
    "            vec = parts[1:]\n",
    "            if len(vec) != embedding_dim:\n",
    "                continue\n",
    "            if token in stoi:\n",
    "                embeddings[stoi[token]] = torch.tensor(list(map(float, vec)))\n",
    "                found += 1\n",
    "    print(f\"Initialized {found} / {len(vocab)} tokens from GloVe.\")\n",
    "    return embeddings"
   ],
   "outputs": [],
   "execution_count": 20
  },
  {
   "cell_type": "code",
   "id": "464211c9-4db4-4e77-8455-70f83212b0ba",
   "metadata": {
    "ExecuteTime": {
     "end_time": "2025-09-29T08:12:22.218785Z",
     "start_time": "2025-09-29T08:12:22.216374Z"
    }
   },
   "source": [
    "pretrained_embedding = load_glove_as_matrix(vocab, embedding_dim=embedding_dim)\n",
    "if pretrained_embedding is not None:\n",
    "    with torch.no_grad():\n",
    "        model.embedding.weight.data.copy_(pretrained_embedding)"
   ],
   "outputs": [
    {
     "name": "stdout",
     "output_type": "stream",
     "text": [
      "GloVe file not found. Proceeding without pretrained embeddings.\n"
     ]
    }
   ],
   "execution_count": 22
  },
  {
   "cell_type": "markdown",
   "id": "c5f737cf-b571-4e17-a6db-e1807380c98c",
   "metadata": {},
   "source": [
    "### Train function\n",
    "Next we need the functions to train and evaluate the model."
   ]
  },
  {
   "cell_type": "code",
   "id": "13e87cdf-4ee3-4afd-82aa-7f1f362c68f9",
   "metadata": {
    "ExecuteTime": {
     "end_time": "2025-09-29T08:12:32.476092Z",
     "start_time": "2025-09-29T08:12:32.471663Z"
    }
   },
   "source": [
    "def train(dataloader, model, criterion, optimizer, device):\n",
    "    model.train()\n",
    "    epoch_losses = []\n",
    "    epoch_accs = []\n",
    "    for batch in tqdm.tqdm(dataloader, desc=\"training...\"):\n",
    "        ids = batch[\"ids\"].to(device)\n",
    "        length = batch[\"length\"]\n",
    "        label = batch[\"label\"].to(device)\n",
    "        prediction = model(ids, length)\n",
    "        loss = criterion(prediction, label)\n",
    "        accuracy = get_accuracy(prediction, label)\n",
    "        optimizer.zero_grad()\n",
    "        loss.backward()\n",
    "        optimizer.step()\n",
    "        epoch_losses.append(loss.item())\n",
    "        epoch_accs.append(accuracy.item())\n",
    "    return np.mean(epoch_losses), np.mean(epoch_accs)\n",
    "\n",
    "def evaluate(dataloader, model, criterion, device):\n",
    "    model.eval()\n",
    "    epoch_losses = []\n",
    "    epoch_accs = []\n",
    "    with torch.no_grad():\n",
    "        for batch in tqdm.tqdm(dataloader, desc=\"evaluating...\"):\n",
    "            ids = batch[\"ids\"].to(device)\n",
    "            length = batch[\"length\"]\n",
    "            label = batch[\"label\"].to(device)\n",
    "            prediction = model(ids, length)\n",
    "            loss = criterion(prediction, label)\n",
    "            accuracy = get_accuracy(prediction, label)\n",
    "            epoch_losses.append(loss.item())\n",
    "            epoch_accs.append(accuracy.item())\n",
    "    return np.mean(epoch_losses), np.mean(epoch_accs)\n",
    "\n",
    "# calculate the accuracy, we could also use the metrics classes as in the last exercise\n",
    "def get_accuracy(prediction, label):\n",
    "    batch_size, _ = prediction.shape\n",
    "    predicted_classes = prediction.argmax(dim=-1)\n",
    "    correct_predictions = predicted_classes.eq(label).sum()\n",
    "    accuracy = correct_predictions / batch_size\n",
    "    return accuracy\n"
   ],
   "outputs": [],
   "execution_count": 23
  },
  {
   "cell_type": "markdown",
   "id": "eb4656ed-a0c0-4ee2-92fa-05149acff513",
   "metadata": {},
   "source": [
    "Construct model and train"
   ]
  },
  {
   "cell_type": "code",
   "id": "9b516650-0708-40ca-a084-28698ab1938b",
   "metadata": {
    "ExecuteTime": {
     "end_time": "2025-09-29T08:12:35.316986Z",
     "start_time": "2025-09-29T08:12:34.758552Z"
    }
   },
   "source": [
    "lr = 5e-4\n",
    "optimizer = optim.Adam(model.parameters(), lr=lr)\n",
    "criterion = nn.CrossEntropyLoss()"
   ],
   "outputs": [],
   "execution_count": 24
  },
  {
   "cell_type": "code",
   "id": "49c115c9-fd62-4a1d-99e4-dd183c7c43b1",
   "metadata": {
    "ExecuteTime": {
     "end_time": "2025-09-29T08:12:36.891511Z",
     "start_time": "2025-09-29T08:12:36.831239Z"
    }
   },
   "source": [
    "def get_device():\n",
    "    if torch.cuda.is_available():\n",
    "        device = torch.device('cuda')\n",
    "        # test if it worked\n",
    "        x = torch.ones(1, device=device)\n",
    "        print('Using CUDA device')\n",
    "\n",
    "    elif torch.backends.mps.is_available():\n",
    "        device = torch.device('mps')\n",
    "        x = torch.ones(1, device=device)\n",
    "        print('Using MPS device')\n",
    "    else:\n",
    "        print('Using CPU')\n",
    "        device = torch.device('cpu')\n",
    "    return device\n",
    "device = get_device()"
   ],
   "outputs": [
    {
     "name": "stdout",
     "output_type": "stream",
     "text": [
      "Using MPS device\n"
     ]
    }
   ],
   "execution_count": 25
  },
  {
   "cell_type": "code",
   "id": "d3eedbe0-9db9-424c-97e6-11ce731f3f53",
   "metadata": {
    "ExecuteTime": {
     "end_time": "2025-09-29T08:12:38.130369Z",
     "start_time": "2025-09-29T08:12:38.076545Z"
    }
   },
   "source": [
    "model = model.to(device)\n",
    "criterion = criterion.to(device)"
   ],
   "outputs": [],
   "execution_count": 26
  },
  {
   "cell_type": "code",
   "id": "127e8747-2c7e-4a0c-a01c-63d5d0e3ceb5",
   "metadata": {
    "ExecuteTime": {
     "end_time": "2025-09-29T08:36:21.048617Z",
     "start_time": "2025-09-29T08:12:39.715747Z"
    }
   },
   "source": [
    "n_epochs = 10\n",
    "best_valid_loss = float(\"inf\")\n",
    "\n",
    "metrics = collections.defaultdict(list)\n",
    "\n",
    "for epoch in range(n_epochs):\n",
    "    train_loss, train_acc = train(\n",
    "        train_data_loader, model, criterion, optimizer, device\n",
    "    )\n",
    "    valid_loss, valid_acc = evaluate(valid_data_loader, model, criterion, device)\n",
    "    metrics[\"train_losses\"].append(train_loss)\n",
    "    metrics[\"train_accs\"].append(train_acc)\n",
    "    metrics[\"valid_losses\"].append(valid_loss)\n",
    "    metrics[\"valid_accs\"].append(valid_acc)\n",
    "    if valid_loss < best_valid_loss:\n",
    "        best_valid_loss = valid_loss\n",
    "        torch.save(model.state_dict(), \"lstm.pt\")\n",
    "    print(f\"epoch: {epoch}\")\n",
    "    print(f\"train_loss: {train_loss:.3f}, train_acc: {train_acc:.3f}\")\n",
    "    print(f\"valid_loss: {valid_loss:.3f}, valid_acc: {valid_acc:.3f}\")"
   ],
   "outputs": [
    {
     "name": "stderr",
     "output_type": "stream",
     "text": [
      "training...: 100%|██████████| 37/37 [02:20<00:00,  3.79s/it]\n",
      "evaluating...: 100%|██████████| 13/13 [00:04<00:00,  3.24it/s]\n"
     ]
    },
    {
     "name": "stdout",
     "output_type": "stream",
     "text": [
      "epoch: 0\n",
      "train_loss: 0.717, train_acc: 0.528\n",
      "valid_loss: 0.678, valid_acc: 0.574\n"
     ]
    },
    {
     "name": "stderr",
     "output_type": "stream",
     "text": [
      "training...: 100%|██████████| 37/37 [02:17<00:00,  3.71s/it]\n",
      "evaluating...: 100%|██████████| 13/13 [00:04<00:00,  3.20it/s]\n"
     ]
    },
    {
     "name": "stdout",
     "output_type": "stream",
     "text": [
      "epoch: 1\n",
      "train_loss: 0.690, train_acc: 0.560\n",
      "valid_loss: 0.666, valid_acc: 0.598\n"
     ]
    },
    {
     "name": "stderr",
     "output_type": "stream",
     "text": [
      "training...: 100%|██████████| 37/37 [02:16<00:00,  3.70s/it]\n",
      "evaluating...: 100%|██████████| 13/13 [00:04<00:00,  3.13it/s]\n"
     ]
    },
    {
     "name": "stdout",
     "output_type": "stream",
     "text": [
      "epoch: 2\n",
      "train_loss: 0.663, train_acc: 0.606\n",
      "valid_loss: 0.750, valid_acc: 0.594\n"
     ]
    },
    {
     "name": "stderr",
     "output_type": "stream",
     "text": [
      "training...: 100%|██████████| 37/37 [02:17<00:00,  3.70s/it]\n",
      "evaluating...: 100%|██████████| 13/13 [00:04<00:00,  3.10it/s]\n"
     ]
    },
    {
     "name": "stdout",
     "output_type": "stream",
     "text": [
      "epoch: 3\n",
      "train_loss: 0.679, train_acc: 0.582\n",
      "valid_loss: 0.642, valid_acc: 0.631\n"
     ]
    },
    {
     "name": "stderr",
     "output_type": "stream",
     "text": [
      "training...: 100%|██████████| 37/37 [02:16<00:00,  3.70s/it]\n",
      "evaluating...: 100%|██████████| 13/13 [00:04<00:00,  3.15it/s]\n"
     ]
    },
    {
     "name": "stdout",
     "output_type": "stream",
     "text": [
      "epoch: 4\n",
      "train_loss: 0.638, train_acc: 0.636\n",
      "valid_loss: 0.761, valid_acc: 0.633\n"
     ]
    },
    {
     "name": "stderr",
     "output_type": "stream",
     "text": [
      "training...: 100%|██████████| 37/37 [02:17<00:00,  3.72s/it]\n",
      "evaluating...: 100%|██████████| 13/13 [00:04<00:00,  3.00it/s]\n"
     ]
    },
    {
     "name": "stdout",
     "output_type": "stream",
     "text": [
      "epoch: 5\n",
      "train_loss: 0.619, train_acc: 0.659\n",
      "valid_loss: 0.733, valid_acc: 0.573\n"
     ]
    },
    {
     "name": "stderr",
     "output_type": "stream",
     "text": [
      "training...: 100%|██████████| 37/37 [02:18<00:00,  3.74s/it]\n",
      "evaluating...: 100%|██████████| 13/13 [00:04<00:00,  3.18it/s]\n"
     ]
    },
    {
     "name": "stdout",
     "output_type": "stream",
     "text": [
      "epoch: 6\n",
      "train_loss: 0.628, train_acc: 0.645\n",
      "valid_loss: 0.645, valid_acc: 0.652\n"
     ]
    },
    {
     "name": "stderr",
     "output_type": "stream",
     "text": [
      "training...: 100%|██████████| 37/37 [02:19<00:00,  3.78s/it]\n",
      "evaluating...: 100%|██████████| 13/13 [00:04<00:00,  2.88it/s]\n"
     ]
    },
    {
     "name": "stdout",
     "output_type": "stream",
     "text": [
      "epoch: 7\n",
      "train_loss: 0.636, train_acc: 0.638\n",
      "valid_loss: 0.659, valid_acc: 0.649\n"
     ]
    },
    {
     "name": "stderr",
     "output_type": "stream",
     "text": [
      "training...: 100%|██████████| 37/37 [02:18<00:00,  3.73s/it]\n",
      "evaluating...: 100%|██████████| 13/13 [00:04<00:00,  3.05it/s]\n"
     ]
    },
    {
     "name": "stdout",
     "output_type": "stream",
     "text": [
      "epoch: 8\n",
      "train_loss: 0.659, train_acc: 0.607\n",
      "valid_loss: 0.673, valid_acc: 0.585\n"
     ]
    },
    {
     "name": "stderr",
     "output_type": "stream",
     "text": [
      "training...: 100%|██████████| 37/37 [02:17<00:00,  3.71s/it]\n",
      "evaluating...: 100%|██████████| 13/13 [00:04<00:00,  3.08it/s]"
     ]
    },
    {
     "name": "stdout",
     "output_type": "stream",
     "text": [
      "epoch: 9\n",
      "train_loss: 0.643, train_acc: 0.629\n",
      "valid_loss: 0.682, valid_acc: 0.658\n"
     ]
    },
    {
     "name": "stderr",
     "output_type": "stream",
     "text": [
      "\n"
     ]
    }
   ],
   "execution_count": 27
  },
  {
   "cell_type": "code",
   "id": "4c73619b-bd02-45e8-a118-5e24949f30ed",
   "metadata": {
    "ExecuteTime": {
     "end_time": "2025-09-29T08:43:36.294564Z",
     "start_time": "2025-09-29T08:43:36.183832Z"
    }
   },
   "source": [
    "fig = plt.figure(figsize=(10, 6))\n",
    "ax = fig.add_subplot(1, 1, 1)\n",
    "ax.plot(metrics[\"train_losses\"], label=\"train loss\")\n",
    "ax.plot(metrics[\"valid_losses\"], label=\"valid loss\")\n",
    "ax.set_xlabel(\"epoch\")\n",
    "ax.set_ylabel(\"loss\")\n",
    "ax.set_xticks(range(n_epochs))\n",
    "ax.legend()\n",
    "ax.grid()"
   ],
   "outputs": [
    {
     "data": {
      "text/plain": [
       "<Figure size 1000x600 with 1 Axes>"
      ],
      "image/png": "[encoded data removed]"
     },
     "metadata": {},
     "output_type": "display_data",
     "jetTransient": {
      "display_id": null
     }
    }
   ],
   "execution_count": 28
  },
  {
   "cell_type": "code",
   "id": "f0d253c2-2468-44c3-a19a-b2f16218302b",
   "metadata": {
    "ExecuteTime": {
     "end_time": "2025-09-29T08:43:39.229892Z",
     "start_time": "2025-09-29T08:43:39.171152Z"
    }
   },
   "source": [
    "fig = plt.figure(figsize=(10, 6))\n",
    "ax = fig.add_subplot(1, 1, 1)\n",
    "ax.plot(metrics[\"train_accs\"], label=\"train accuracy\")\n",
    "ax.plot(metrics[\"valid_accs\"], label=\"valid accuracy\")\n",
    "ax.set_xlabel(\"epoch\")\n",
    "ax.set_ylabel(\"loss\")\n",
    "ax.set_xticks(range(n_epochs))\n",
    "ax.legend()\n",
    "ax.grid()"
   ],
   "outputs": [
    {
     "data": {
      "text/plain": [
       "<Figure size 1000x600 with 1 Axes>"
      ],
      "image/png": "[encoded data removed]"
     },
     "metadata": {},
     "output_type": "display_data",
     "jetTransient": {
      "display_id": null
     }
    }
   ],
   "execution_count": 29
  },
  {
   "cell_type": "code",
   "id": "369ff282-e43d-4b8a-aadb-70f68889bb72",
   "metadata": {
    "ExecuteTime": {
     "end_time": "2025-09-29T08:43:40.976635Z",
     "start_time": "2025-09-29T08:43:40.974424Z"
    }
   },
   "source": [
    "def predict_sentiment(text, model, tokenizer, vocab, device):\n",
    "    tokens = tokenizer(text)\n",
    "    ids = vocab.lookup_indices(tokens)\n",
    "    length = torch.LongTensor([len(ids)])\n",
    "    tensor = torch.LongTensor(ids).unsqueeze(dim=0).to(device)\n",
    "    prediction = model(tensor, length).squeeze(dim=0)\n",
    "    probability = torch.softmax(prediction, dim=-1)\n",
    "    predicted_class = prediction.argmax(dim=-1).item()\n",
    "    predicted_probability = probability[predicted_class].item()\n",
    "    return predicted_class, predicted_probability"
   ],
   "outputs": [],
   "execution_count": 30
  },
  {
   "cell_type": "code",
   "id": "eb21eac8-0af8-4f7a-92b1-a79527efd3e2",
   "metadata": {
    "ExecuteTime": {
     "end_time": "2025-09-29T08:43:50.772269Z",
     "start_time": "2025-09-29T08:43:50.769414Z"
    }
   },
   "source": [
    "def predict_sentiment(text, model, tokenizer, vocab, device):\n",
    "    tokens = tokenizer(text)\n",
    "    ids = vocab.lookup_indices(tokens)\n",
    "    length = torch.LongTensor([len(ids)])\n",
    "    tensor = torch.LongTensor(ids).unsqueeze(dim=0).to(device)\n",
    "    prediction = model(tensor, length).squeeze(dim=0)\n",
    "    probability = torch.softmax(prediction, dim=-1)\n",
    "    predicted_class = prediction.argmax(dim=-1).item()\n",
    "    predicted_probability = probability[predicted_class].item()\n",
    "    return predicted_class, predicted_probability"
   ],
   "outputs": [],
   "execution_count": 31
  },
  {
   "cell_type": "code",
   "id": "ca8fc23a-b96e-4073-bbea-9198e5ec3e42",
   "metadata": {
    "ExecuteTime": {
     "end_time": "2025-09-29T08:43:54.453567Z",
     "start_time": "2025-09-29T08:43:54.021153Z"
    }
   },
   "source": [
    "text = \"This film is terrible!\"\n",
    "\n",
    "predict_sentiment(text, model, tokenizer, vocab, device)"
   ],
   "outputs": [
    {
     "data": {
      "text/plain": [
       "(1, 0.6580556631088257)"
      ]
     },
     "execution_count": 32,
     "metadata": {},
     "output_type": "execute_result"
    }
   ],
   "execution_count": 32
  },
  {
   "cell_type": "code",
   "id": "3a43b194-c04a-41c8-8f15-5cfd4669a389",
   "metadata": {
    "ExecuteTime": {
     "end_time": "2025-09-29T08:43:56.528003Z",
     "start_time": "2025-09-29T08:43:56.496955Z"
    }
   },
   "source": [
    "text = \"This film is great!\"\n",
    "\n",
    "predict_sentiment(text, model, tokenizer, vocab, device)"
   ],
   "outputs": [
    {
     "data": {
      "text/plain": [
       "(1, 0.9172079563140869)"
      ]
     },
     "execution_count": 33,
     "metadata": {},
     "output_type": "execute_result"
    }
   ],
   "execution_count": 33
  },
  {
   "cell_type": "code",
   "id": "88b1b32b-1368-48c9-9a3b-24fb4dca7bee",
   "metadata": {
    "ExecuteTime": {
     "end_time": "2025-09-29T08:43:56.998179Z",
     "start_time": "2025-09-29T08:43:56.968318Z"
    }
   },
   "source": [
    "text = \"This film is not terrible, it's great!\"\n",
    "\n",
    "predict_sentiment(text, model, tokenizer, vocab, device)"
   ],
   "outputs": [
    {
     "data": {
      "text/plain": [
       "(0, 0.5298693180084229)"
      ]
     },
     "execution_count": 34,
     "metadata": {},
     "output_type": "execute_result"
    }
   ],
   "execution_count": 34
  },
  {
   "cell_type": "code",
   "id": "9ff4b1e7-ca27-4931-b2e5-430c2b473ea8",
   "metadata": {
    "ExecuteTime": {
     "end_time": "2025-09-29T08:43:57.392922Z",
     "start_time": "2025-09-29T08:43:57.379818Z"
    }
   },
   "source": [
    "text = \"This film is not great, it's terrible!\"\n",
    "\n",
    "predict_sentiment(text, model, tokenizer, vocab, device)"
   ],
   "outputs": [
    {
     "data": {
      "text/plain": [
       "(1, 0.7524096369743347)"
      ]
     },
     "execution_count": 35,
     "metadata": {},
     "output_type": "execute_result"
    }
   ],
   "execution_count": 35
  },
  {
   "cell_type": "markdown",
   "id": "c1ca8f99-cc9a-4cdc-94ef-1cd5e0c01568",
   "metadata": {},
   "source": [
    "## Exercise 1: LSTM\n",
    "\n",
    "The model should not be bad yet (specially if pretrained embeddings are used). Can you replace the RNN with a LSTM and check the results."
   ]
  },
  {
   "cell_type": "code",
   "execution_count": null,
   "id": "3eeed48d-a061-4475-a01f-eb0503f191f0",
   "metadata": {},
   "outputs": [],
   "source": []
  },
  {
   "cell_type": "markdown",
   "id": "5f39a319-9f6d-4097-9ac9-6cbc253ae73e",
   "metadata": {},
   "source": [
    "## Exercise 2: Attention and Transformer (hard)\n",
    "\n",
    "Even as this is not a seq2seq tasks, it would be possible to use attention and transformer ideas here. For example the encoder part and then just use a more simple decoder. "
   ]
  },
  {
   "cell_type": "code",
   "execution_count": null,
   "id": "732dca43-15f0-4962-9d1d-d7738349505e",
   "metadata": {},
   "outputs": [],
   "source": []
  }
 ],
 "metadata": {
  "kernelspec": {
   "display_name": "Python 3 (ipykernel)",
   "language": "python",
   "name": "python3"
  },
  "language_info": {
   "codemirror_mode": {
    "name": "ipython",
    "version": 3
   },
   "file_extension": ".py",
   "mimetype": "text/x-python",
   "name": "python",
   "nbconvert_exporter": "python",
   "pygments_lexer": "ipython3",
   "version": "3.12.4"
  }
 },
 "nbformat": 4,
 "nbformat_minor": 5
}
